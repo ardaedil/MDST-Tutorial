{
  "cells": [
    {
      "cell_type": "markdown",
      "metadata": {
        "id": "4knB_HMSh2xQ"
      },
      "source": [
        "# Checkpoint 1"
      ]
    },
    {
      "cell_type": "markdown",
      "metadata": {
        "id": "luTSaEpsh2xR"
      },
      "source": [
        "Reminder:\n",
        "\n",
        "- You are being evaluated for completion and effort in this checkpoint.\n",
        "- Avoid manual labor / hard coding as much as possible, everything we've taught you so far are meant to simplify and automate your process."
      ]
    },
    {
      "cell_type": "markdown",
      "metadata": {
        "id": "IHaDD6xph2xS"
      },
      "source": [
        "We will be working with the same `states_edu.csv` that you should already be familiar with from the tutorial.\n",
        "\n",
        "We investigated Grade 8 reading score in the tutorial. For this checkpoint, you are asked to investigate another test. Here's an overview:\n",
        "\n",
        "* Choose a specific response variable to focus on\n",
        ">Grade 4 Math, Grade 4 Reading, Grade 8 Math\n",
        "* Pick or create features to use\n",
        ">Will all the features be useful in predicting test score? Are some more important than others? Should you standardize, bin, or scale the data?\n",
        "* Explore the data as it relates to that test\n",
        ">Create at least 2 visualizations (graphs), each with a caption describing the graph and what it tells us about the data\n",
        "* Create training and testing data\n",
        ">Do you want to train on all the data? Only data from the last 10 years? Only Michigan data?\n",
        "* Train a ML model to predict outcome\n",
        ">Define what you want to predict, and pick a model in sklearn to use (see sklearn <a href=\"https://scikit-learn.org/stable/modules/linear_model.html\">regressors</a>).\n",
        "\n",
        "\n",
        "Include comments throughout your code! Every cleanup and preprocessing task should be documented."
      ]
    },
    {
      "cell_type": "markdown",
      "metadata": {
        "id": "tFvw6K4nh2xS"
      },
      "source": [
        "<h2> Data Cleanup </h2>\n",
        "\n",
        "Import `numpy`, `pandas`, and `matplotlib`.\n",
        "\n",
        "(Feel free to import other libraries!)"
      ]
    },
    {
      "cell_type": "code",
      "execution_count": null,
      "metadata": {
        "id": "OsiKtNDrh2xS"
      },
      "outputs": [],
      "source": [
        "import pandas as pd\n",
        "import numpy as np\n",
        "import matplotlib.pyplot as plt\n",
        "\n",
        "# Suppress Pandas SettingWithCopyWarning\n",
        "pd.options.mode.chained_assignment = None"
      ]
    },
    {
      "cell_type": "markdown",
      "metadata": {
        "id": "l1MAA_s6h2xT"
      },
      "source": [
        "Load in the \"states_edu.csv\" dataset and take a look at the head of the data"
      ]
    },
    {
      "cell_type": "code",
      "execution_count": null,
      "metadata": {
        "id": "ecSPDqr6h2xT"
      },
      "outputs": [],
      "source": [
        "df = pd.read_csv('/content/states_edu.csv')"
      ]
    },
    {
      "cell_type": "markdown",
      "metadata": {
        "id": "8rWWSIuTh2xT"
      },
      "source": [
        "You should always familiarize yourself with what each column in the dataframe represents. Read about the states_edu dataset here: https://www.kaggle.com/noriuk/us-education-datasets-unification-project"
      ]
    },
    {
      "cell_type": "markdown",
      "metadata": {
        "id": "6KCDRX9Ah2xT"
      },
      "source": [
        "Use this space to rename columns, deal with missing data, etc. _(optional)_"
      ]
    },
    {
      "cell_type": "code",
      "execution_count": null,
      "metadata": {
        "id": "3EsWH2TVh2xU"
      },
      "outputs": [],
      "source": [
        "# prompt: rename columns, deal with missing data, etc\n",
        "\n",
        "# Rename columns\n",
        "df = df.rename(\n",
        "    columns={\n",
        "        \"GRADES_PK_G\": \"Grades_PK_G\",\n",
        "        \"GRADES_KG_G\": \"Grades_KG_G\",\n",
        "        \"GRADES_4_G\": \"Grades_4_G\",\n",
        "        \"GRADES_8_G\": \"Grades_8_G\",\n",
        "        \"GRADES_12_G\": \"Grades_12_G\",\n",
        "        \"GRADES_1_8_G\": \"Grades_1_8_G\",\n",
        "        \"GRADES_9_12_G\": \"Grades_9_12_G\",\n",
        "        \"GRADES_ALL_G\": \"Grades_All_G\",\n",
        "        \"AVG_MATH_4_SCORE\": \"Avg_Math_4_Score\",\n",
        "        \"AVG_READING_4_SCORE\": \"Avg_Reading_4_Score\",\n",
        "        \"AVG_MATH_8_SCORE\": \"Avg_Math_8_Score\",\n",
        "        \"AVG_READING_8_SCORE\": \"Avg_Reading_8_Score\",\n",
        "    }\n",
        ")\n",
        "\n",
        "# Deal with missing data\n",
        "# We can see that there are a lot of NaN values.\n",
        "# We can fill in the missing values with the mean value for that column.\n",
        "df.fillna(df.mean(), inplace=True)\n"
      ]
    },
    {
      "cell_type": "markdown",
      "metadata": {
        "id": "HBlw_NoAh2xU"
      },
      "source": [
        "<h2>Exploratory Data Analysis (EDA) </h2>"
      ]
    },
    {
      "cell_type": "markdown",
      "metadata": {
        "id": "hyxSfSanh2xU"
      },
      "source": [
        "Chosen one of Grade 4 Reading, Grade 4 Math, or Grade 8 Math to focus on: *Grade 8 Math*"
      ]
    },
    {
      "cell_type": "markdown",
      "metadata": {
        "id": "lAgJyZaCh2xU"
      },
      "source": [
        "How many years of data are logged in our dataset?"
      ]
    },
    {
      "cell_type": "code",
      "execution_count": null,
      "metadata": {
        "id": "BAoPNUDbh2xU"
      },
      "outputs": [],
      "source": [
        "# prompt: How many years of data are logged in our dataset?\n",
        "\n",
        "# How many years of data are logged in our dataset?\n",
        "print(df[\"YEAR\"].nunique())\n"
      ]
    },
    {
      "cell_type": "markdown",
      "metadata": {
        "id": "SdDNhW41h2xU"
      },
      "source": [
        "Let's compare Michigan to Ohio. Which state has the higher average across all years in the test you chose?"
      ]
    },
    {
      "cell_type": "code",
      "execution_count": null,
      "metadata": {
        "id": "0W1IXdQOh2xU"
      },
      "outputs": [],
      "source": [
        "# prompt: Let's compare Michigan to Ohio. Which state has the higher average across all years in the test you chose?\n",
        "\n",
        "# Calculate the average Grade 8 Math score for Michigan\n",
        "michigan_avg = df[df[\"STATE\"] == \"MICHIGAN\"][\"Avg_Math_8_Score\"].mean()\n",
        "\n",
        "# Calculate the average Grade 8 Math score for Ohio\n",
        "ohio_avg = df[df[\"STATE\"] == \"OHIO\"][\"Avg_Math_8_Score\"].mean()\n",
        "\n",
        "# Compare the averages\n",
        "if michigan_avg > ohio_avg:\n",
        "  print(\"Michigan has the higher average Grade 8 Math score.\")\n",
        "elif ohio_avg > michigan_avg:\n",
        "  print(\"Ohio has the higher average Grade 8 Math score.\")\n",
        "else:\n",
        "  print(\"Michigan and Ohio have the same average Grade 8 Math score.\")\n"
      ]
    },
    {
      "cell_type": "markdown",
      "metadata": {
        "id": "vHeAH-3hh2xV"
      },
      "source": [
        "Find the average for your chosen test across all states in 2019"
      ]
    },
    {
      "cell_type": "code",
      "execution_count": null,
      "metadata": {
        "id": "mfmSoliDh2xV"
      },
      "outputs": [],
      "source": [
        "# prompt: Find the average for your chosen test across all states in 2019\n",
        "\n",
        "# Find the average for your chosen test across all states in 2019\n",
        "avg_math_8_score_2019 = df[df[\"YEAR\"] == 2019][\"Avg_Math_8_Score\"].mean()\n",
        "print(f\"The average Grade 8 Math score across all states in 2019 is: {avg_math_8_score_2019}\")\n"
      ]
    },
    {
      "cell_type": "markdown",
      "metadata": {
        "id": "sA6RTbsMh2xV"
      },
      "source": [
        "For each state, find a maximum value for your chosen test score"
      ]
    },
    {
      "cell_type": "code",
      "execution_count": null,
      "metadata": {
        "id": "mOPpDVBCh2xV"
      },
      "outputs": [],
      "source": [
        "# prompt: For each state, find a maximum value for your chosen test score\n",
        "\n",
        "# For each state, find a maximum value for your chosen test score\n",
        "max_scores_by_state = df.groupby(\"STATE\")[\"Avg_Math_8_Score\"].max()\n",
        "print(max_scores_by_state)\n"
      ]
    },
    {
      "cell_type": "markdown",
      "metadata": {
        "id": "kJovgbngh2xV"
      },
      "source": [
        "*Refer to the `Grouping and Aggregating` section in Tutorial 0 if you are stuck."
      ]
    },
    {
      "cell_type": "markdown",
      "metadata": {
        "id": "FQxHypiBh2xV"
      },
      "source": [
        "<h2> Feature Engineering </h2>\n",
        "\n",
        "After exploring the data, you can choose to modify features that you would use to predict the performance of the students on your chosen response variable.\n",
        "\n",
        "You can also create your own features. For example, perhaps you figured that maybe a state's expenditure per student may affect their overall academic performance so you create a expenditure_per_student feature.\n",
        "\n",
        "Use this space to modify or create features."
      ]
    },
    {
      "cell_type": "code",
      "execution_count": null,
      "metadata": {
        "id": "8-mcMrHRh2xV"
      },
      "outputs": [],
      "source": [
        "# prompt: After exploring the data, you can choose to modify features that you would use to predict the performance of the students on your chosen response variable. You can also create your own features. For example, perhaps you figured that maybe a state's expenditure per student may affect their overall academic performance so you create a expenditure_per_student feature. Use this space to modify or crea\n",
        "\n",
        "# Create a new feature: expenditure per student\n",
        "df[\"expenditure_per_student\"] = df[\"TOTAL_REVENUE\"] / df[\"Grades_All_G\"]\n",
        "\n",
        "# You can also create a new feature that is the ratio of students in grade 4 to the total number of students.\n",
        "df[\"grade_4_ratio\"] = df[\"Grades_4_G\"] / df[\"Grades_All_G\"]\n"
      ]
    },
    {
      "cell_type": "markdown",
      "metadata": {
        "id": "YXBYrrQYh2xV"
      },
      "source": [
        "Feature engineering justification: **<BRIEFLY DESCRIBE WHY YOU MADE THE CHANGES THAT YOU DID\\>**"
      ]
    },
    {
      "cell_type": "markdown",
      "metadata": {
        "id": "9GMlo3Ash2xV"
      },
      "source": [
        "<h2>Visualization</h2>\n",
        "\n",
        "Investigate the relationship between your chosen response variable and at least two predictors using visualizations. Write down your observations.\n",
        "\n",
        "**Visualization 1**"
      ]
    },
    {
      "cell_type": "code",
      "execution_count": null,
      "metadata": {
        "id": "hMliBMfDh2xV"
      },
      "outputs": [],
      "source": [
        "# prompt: Investigate the relationship between your chosen response variable and at least two predictors using visualizations. Write down your observations.\n",
        "# Visualization 1\n",
        "\n",
        "import matplotlib.pyplot as plt\n",
        "# Create a scatter plot to investigate the relationship between Grade 8 Math score and expenditure per student\n",
        "plt.figure(figsize=(10, 6))\n",
        "plt.scatter(df[\"expenditure_per_student\"], df[\"Avg_Math_8_Score\"])\n",
        "plt.xlabel(\"Expenditure per Student\")\n",
        "plt.ylabel(\"Average Grade 8 Math Score\")\n",
        "plt.title(\"Relationship between Expenditure per Student and Average Grade 8 Math Score\")\n",
        "plt.show()\n",
        "\n",
        "# Observation: There seems to be a weak positive correlation between expenditure per student and average Grade 8 Math score.\n",
        "# However, the relationship is not very strong.\n"
      ]
    },
    {
      "cell_type": "markdown",
      "metadata": {
        "id": "PO0WbNJ5h2xV"
      },
      "source": [
        "**<CAPTION FOR VIZ 1>**"
      ]
    },
    {
      "cell_type": "markdown",
      "metadata": {
        "id": "-4AlyzYkh2xV"
      },
      "source": [
        "**Visualization 2**"
      ]
    },
    {
      "cell_type": "code",
      "execution_count": null,
      "metadata": {
        "id": "bT7BkX6Gh2xV"
      },
      "outputs": [],
      "source": [
        "# prompt: Visualization 2\n",
        "\n",
        "import matplotlib.pyplot as plt\n",
        "# Create a scatter plot to investigate the relationship between Grade 8 Math score and the ratio of students in grade 4 to the total number of students.\n",
        "plt.figure(figsize=(10, 6))\n",
        "plt.scatter(df[\"grade_4_ratio\"], df[\"Avg_Math_8_Score\"])\n",
        "plt.xlabel(\"Grade 4 Ratio\")\n",
        "plt.ylabel(\"Average Grade 8 Math Score\")\n",
        "plt.title(\"Relationship between Grade 4 Ratio and Average Grade 8 Math Score\")\n",
        "plt.show()\n",
        "\n",
        "# Observation: There seems to be a weak negative correlation between the ratio of students in grade 4 to the total number of students and average Grade 8 Math score.\n",
        "# However, the relationship is not very strong.\n",
        "\n",
        "# **<CAPTION FOR VIZ 2>**\n"
      ]
    },
    {
      "cell_type": "markdown",
      "metadata": {
        "id": "rY1t4Jiah2xW"
      },
      "source": [
        "**<CAPTION FOR VIZ 2>**"
      ]
    },
    {
      "cell_type": "markdown",
      "metadata": {
        "id": "nmvPHPmSh2xW"
      },
      "source": [
        "<h2> Data Creation </h2>\n",
        "\n",
        "_Use this space to create train/test data_"
      ]
    },
    {
      "cell_type": "code",
      "execution_count": null,
      "metadata": {
        "id": "gRVzT3nIh2xW"
      },
      "outputs": [],
      "source": [
        "from sklearn.model_selection import train_test_split"
      ]
    },
    {
      "cell_type": "code",
      "execution_count": null,
      "metadata": {
        "id": "TW_ter5jh2xW"
      },
      "outputs": [],
      "source": [
        "X = df[['ENROLL_8','AVG_MATH_8_SCORE','AVG_READING_4_SCORE']].dropna()\n",
        "y = df.loc[X.index]['AVG_READING_8_SCORE']"
      ]
    },
    {
      "cell_type": "code",
      "execution_count": null,
      "metadata": {
        "id": "21Q67Cv7h2xW"
      },
      "outputs": [],
      "source": [
        "X_train, X_test, y_train, y_test = train_test_split(X, y, test_size=.3, random_state=0)"
      ]
    },
    {
      "cell_type": "markdown",
      "metadata": {
        "id": "jPZktBzph2xW"
      },
      "source": [
        "<h2> Prediction </h2>"
      ]
    },
    {
      "cell_type": "markdown",
      "metadata": {
        "id": "iEKFSm9kh2xW"
      },
      "source": [
        "ML Models [Resource](https://medium.com/@vijaya.beeravalli/comparison-of-machine-learning-classification-models-for-credit-card-default-data-c3cf805c9a5a)"
      ]
    },
    {
      "cell_type": "code",
      "execution_count": null,
      "metadata": {
        "id": "_vR1F9Reh2xW"
      },
      "outputs": [],
      "source": [
        "from sklearn.linear_model import LinearRegression"
      ]
    },
    {
      "cell_type": "code",
      "execution_count": null,
      "metadata": {
        "id": "Qo0SUL85h2xX"
      },
      "outputs": [],
      "source": [
        "# create your model here\n",
        "model = LinearRegression()"
      ]
    },
    {
      "cell_type": "code",
      "execution_count": null,
      "metadata": {
        "id": "ttMxwhS5h2xX"
      },
      "outputs": [],
      "source": [
        "model.fit(X_train, y_train)"
      ]
    },
    {
      "cell_type": "code",
      "execution_count": null,
      "metadata": {
        "id": "56Q-TANZh2xX"
      },
      "outputs": [],
      "source": [
        "y_pred = model.predict(X_test)"
      ]
    },
    {
      "cell_type": "markdown",
      "metadata": {
        "id": "KSZd9Hugh2xY"
      },
      "source": [
        "## Evaluation"
      ]
    },
    {
      "cell_type": "markdown",
      "metadata": {
        "id": "g9YihUFCh2xY"
      },
      "source": [
        "Choose some metrics to evaluate the performance of your model, some of them are mentioned in the tutorial."
      ]
    },
    {
      "cell_type": "code",
      "execution_count": null,
      "metadata": {
        "id": "RO0lvqNJh2xY"
      },
      "outputs": [],
      "source": []
    },
    {
      "cell_type": "markdown",
      "metadata": {
        "id": "8khcg6N_h2xY"
      },
      "source": [
        "We have copied over the graphs that visualize the model's performance on the training and testing set.\n",
        "\n",
        "Change `col_name` and modify the call to `plt.ylabel()` to isolate how a single predictor affects the model."
      ]
    },
    {
      "cell_type": "code",
      "execution_count": null,
      "metadata": {
        "id": "yVOamBqbh2xY"
      },
      "outputs": [],
      "source": [
        "col_name = 'AVG_MATH_8_SCORE'\n",
        "\n",
        "f = plt.figure(figsize=(12,6))\n",
        "plt.scatter(X_train[col_name], y_train, color = \"red\")\n",
        "plt.scatter(X_train[col_name], model.predict(X_train), color = \"green\")\n",
        "\n",
        "plt.legend(['True Training','Predicted Training'])\n",
        "plt.xlabel(col_name)\n",
        "plt.ylabel('Reading 8 score')\n",
        "plt.title(\"Model Behavior On Training Set\")"
      ]
    },
    {
      "cell_type": "code",
      "execution_count": null,
      "metadata": {
        "id": "XF0LTnoZh2xY"
      },
      "outputs": [],
      "source": [
        "col_name = 'AVG_MATH_8_SCORE'\n",
        "\n",
        "f = plt.figure(figsize=(12,6))\n",
        "plt.scatter(X_test[col_name], y_test, color = \"blue\")\n",
        "plt.scatter(X_test[col_name], model.predict(X_test), color = \"black\")\n",
        "\n",
        "plt.legend(['True testing','Predicted testing'])\n",
        "plt.xlabel(col_name)\n",
        "plt.ylabel('Reading 8 score')\n",
        "plt.title(\"Model Behavior on Testing Set\")"
      ]
    }
  ],
  "metadata": {
    "kernelspec": {
      "display_name": "Python 3.9.0 64-bit",
      "language": "python",
      "name": "python3"
    },
    "language_info": {
      "codemirror_mode": {
        "name": "ipython",
        "version": 3
      },
      "file_extension": ".py",
      "mimetype": "text/x-python",
      "name": "python",
      "nbconvert_exporter": "python",
      "pygments_lexer": "ipython3",
      "version": "3.9.0"
    },
    "vscode": {
      "interpreter": {
        "hash": "6cf8df3ff69f85f626faf55c10df6fe2cb9d1236b4dc73844ee4dc01369c2c99"
      }
    },
    "colab": {
      "provenance": []
    }
  },
  "nbformat": 4,
  "nbformat_minor": 0
}